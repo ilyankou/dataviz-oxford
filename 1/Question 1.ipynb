{
 "cells": [
  {
   "cell_type": "code",
   "execution_count": 23,
   "metadata": {
    "collapsed": false
   },
   "outputs": [],
   "source": [
    "import numpy as np\n",
    "import os\n",
    "from skimage.io import imread\n",
    "from PIL import Image\n",
    "\n",
    "names = os.listdir('male')\n",
    "names.pop(0) #remove '.DS_Store' file\n",
    "\n",
    "samples = []\n",
    "\n",
    "for n in names:\n",
    "    for j in range(1,2): # read only one face of each person\n",
    "        file = './male/%s/%s.%d.jpg' % (n, n, j)\n",
    "        samples.append(imread(file, as_grey=True))\n",
    "\n",
    "samples = np.resize(np.array(samples), (len(samples), 36000))"
   ]
  },
  {
   "cell_type": "code",
   "execution_count": 72,
   "metadata": {
    "collapsed": false
   },
   "outputs": [],
   "source": [
    "# Compute the mean face\n",
    "\n",
    "mean_face = np.zeros(36000)\n",
    "\n",
    "for i in range(0, len(samples)):\n",
    "    mean_face += samples[i]\n",
    "\n",
    "mean_face /= len(samples)\n",
    "\n",
    "def show(a):\n",
    "    Image.fromarray(np.resize(a, (200, 180)) * 255).show()\n",
    "    \n",
    "show(mean_face)"
   ]
  },
  {
   "cell_type": "code",
   "execution_count": 91,
   "metadata": {
    "collapsed": false
   },
   "outputs": [],
   "source": [
    "# Compute difference faces\n",
    "difference_faces = samples - mean_face \n",
    "    \n",
    "# Covariance matrix of difference faces\n",
    "cov = np.dot(difference_faces, difference_faces.T)\n",
    "\n",
    "# Eigenvectors and eigenvalues of the covariance matrix\n",
    "eigenface_val, eigenface_vec = np.linalg.eig(cov)"
   ]
  },
  {
   "cell_type": "code",
   "execution_count": 129,
   "metadata": {
    "collapsed": false
   },
   "outputs": [],
   "source": [
    "eigenfaces = np.dot(difference_faces.T, eigenface_vec).T\n",
    "\n",
    "# Normalize eigenfaces (make them unit vectors)\n",
    "for i in range(len(eigenfaces)):\n",
    "    norm = np.linalg.norm(eigenfaces[i])\n",
    "    eigenfaces[i] /= norm\n",
    "\n",
    "take_eigenfaces = len(eigenfaces)\n",
    "\n",
    "coeff = np.dot(eigenfaces, difference_faces.T)\n",
    "\n",
    "def reconstruct(face, eigf=len(eigenfaces)):\n",
    "    return (mean_face + np.dot(eigenfaces[:eigf].T, coeff[:eigf]).T[face])\n",
    "\n",
    "show(reconstruct(0, 90))"
   ]
  },
  {
   "cell_type": "code",
   "execution_count": 133,
   "metadata": {
    "collapsed": false
   },
   "outputs": [],
   "source": [
    "for celeb in ['trump', 'hitler', 'guy0']:\n",
    "    celeb = np.resize(imread('%s.jpg' % (celeb), as_grey=True), (1, 36000))\n",
    "\n",
    "    diff = celeb - mean_face\n",
    "    coef = np.dot(eigenfaces, diff.T)\n",
    "\n",
    "    show(mean_face + np.dot(eigenfaces.T, coef).T)"
   ]
  },
  {
   "cell_type": "code",
   "execution_count": null,
   "metadata": {
    "collapsed": true
   },
   "outputs": [],
   "source": []
  }
 ],
 "metadata": {
  "anaconda-cloud": {},
  "kernelspec": {
   "display_name": "Python [default]",
   "language": "python",
   "name": "python3"
  },
  "language_info": {
   "codemirror_mode": {
    "name": "ipython",
    "version": 3
   },
   "file_extension": ".py",
   "mimetype": "text/x-python",
   "name": "python",
   "nbconvert_exporter": "python",
   "pygments_lexer": "ipython3",
   "version": "3.5.2"
  }
 },
 "nbformat": 4,
 "nbformat_minor": 1
}
